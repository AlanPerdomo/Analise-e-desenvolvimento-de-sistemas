{
  "cells": [
    {
      "cell_type": "markdown",
      "metadata": {
        "id": "view-in-github",
        "colab_type": "text"
      },
      "source": [
        "<a href=\"https://colab.research.google.com/github/AlanPerdomo/Analise-e-desenvolvimento-de-sistemas/blob/master/Aula_4.ipynb\" target=\"_parent\"><img src=\"https://colab.research.google.com/assets/colab-badge.svg\" alt=\"Open In Colab\"/></a>"
      ]
    },
    {
      "cell_type": "code",
      "source": [
        "import operator\n",
        "from functools import reduce\n",
        "\n",
        "lista = [[8,2,3],[4,5,6],[10,8,9]]\n",
        "lista2 = list(map(max,lista))\n",
        "soma = reduce(operator.add, lista2)\n",
        "soma\n"
      ],
      "metadata": {
        "id": "sUXgPMIva5Ne",
        "outputId": "6f9eb65f-84f4-48ca-d429-ef0f5165e286",
        "colab": {
          "base_uri": "https://localhost:8080/"
        }
      },
      "execution_count": null,
      "outputs": [
        {
          "output_type": "execute_result",
          "data": {
            "text/plain": [
              "24"
            ]
          },
          "metadata": {},
          "execution_count": 6
        }
      ]
    },
    {
      "cell_type": "code",
      "source": [
        "import functools\n",
        "lista = [0,3,5,8,2]\n",
        "print(\"o maior elemento é: \", end=\"\")\n",
        "print(functools.reduce(lambda a,b: a if a > b else b,lista))\n"
      ],
      "metadata": {
        "id": "JusiNf8scKVJ",
        "outputId": "16f75923-bb15-454e-b862-e609c4fb9ce6",
        "colab": {
          "base_uri": "https://localhost:8080/"
        }
      },
      "execution_count": null,
      "outputs": [
        {
          "output_type": "stream",
          "name": "stdout",
          "text": [
            "o maior elemento é: 8\n"
          ]
        }
      ]
    },
    {
      "cell_type": "code",
      "source": [
        "from functools import reduce\n",
        "\n",
        "def mult(x,y):\n",
        "  return x*y\n",
        "minha_lista = [2,4,5,3]\n",
        "produto = reduce(mult, minha_lista)\n",
        "print(produto)"
      ],
      "metadata": {
        "id": "IgsS2YQldCz7",
        "outputId": "4672e653-9783-48be-b8df-88bffc4e1a3d",
        "colab": {
          "base_uri": "https://localhost:8080/"
        }
      },
      "execution_count": null,
      "outputs": [
        {
          "output_type": "stream",
          "name": "stdout",
          "text": [
            "120\n"
          ]
        }
      ]
    },
    {
      "cell_type": "code",
      "source": [
        "words = ['Python','Spark',\"Aulas\"]\n",
        "maior_palavra = reduce(lambda x,y: x if len(x)>len(y) else y, words)\n",
        "print(maior_palavra)"
      ],
      "metadata": {
        "id": "Sxtpl6SehHTp",
        "outputId": "5eb60919-570a-416b-cadf-d7b8c08653e5",
        "colab": {
          "base_uri": "https://localhost:8080/"
        }
      },
      "execution_count": null,
      "outputs": [
        {
          "output_type": "stream",
          "name": "stdout",
          "text": [
            "Python\n"
          ]
        }
      ]
    },
    {
      "cell_type": "code",
      "source": [
        "sets = [{1,2,3},{2,3,4}]\n",
        "uniao = reduce(lambda x,y: x | y, sets)\n",
        "print(\"União:\",uniao)"
      ],
      "metadata": {
        "id": "_exwtrB2h4_w",
        "outputId": "8c32d299-99bc-4695-a146-2c60e2309b01",
        "colab": {
          "base_uri": "https://localhost:8080/"
        }
      },
      "execution_count": null,
      "outputs": [
        {
          "output_type": "stream",
          "name": "stdout",
          "text": [
            "União: {1, 2, 3, 4}\n"
          ]
        }
      ]
    },
    {
      "cell_type": "code",
      "source": [
        "meu_dicionario = {'spark':3,'python':2,\"java\": 2}\n",
        "produto = reduce(lambda x,y: x*y, meu_dicionario.values())\n",
        "print(produto)"
      ],
      "metadata": {
        "id": "4QjkiTxniQHl",
        "outputId": "e3795905-d05d-4425-e789-a2238a84b8d7",
        "colab": {
          "base_uri": "https://localhost:8080/"
        }
      },
      "execution_count": null,
      "outputs": [
        {
          "output_type": "stream",
          "name": "stdout",
          "text": [
            "12\n"
          ]
        }
      ]
    },
    {
      "cell_type": "code",
      "source": [
        "from functools import reduce\n",
        "lista = [1,2,3,4,5,6,7,8]\n",
        "soma = reduce(lambda x,y: x + y, lista)\n",
        "menor = reduce(lambda x, y: x if x < y else y, lista)\n",
        "media = soma / len(lista)\n",
        "\n",
        "print(\"A media é: \",media, \"\\nO menor valor é: \",menor, \"\\na soma é:\", soma)"
      ],
      "metadata": {
        "id": "ElHIAJIaiw8o",
        "outputId": "068780f4-0062-44ef-a39b-5eb8edd74aad",
        "colab": {
          "base_uri": "https://localhost:8080/"
        }
      },
      "execution_count": null,
      "outputs": [
        {
          "output_type": "stream",
          "name": "stdout",
          "text": [
            "A media é:  4.5 \n",
            "O menor valor é:  1 \n",
            "a soma é: 36\n"
          ]
        }
      ]
    },
    {
      "cell_type": "code",
      "source": [
        "from functools import reduce\n",
        "lista = [\"Oi \",\"Alan\",\"!\"]\n",
        "concatena = reduce(lambda x,y: x + y, lista)\n",
        "print(concatena)"
      ],
      "metadata": {
        "id": "R54FP0ckkkwq",
        "outputId": "38e81492-fed9-4dca-ccf0-01977b945c03",
        "colab": {
          "base_uri": "https://localhost:8080/"
        }
      },
      "execution_count": null,
      "outputs": [
        {
          "output_type": "stream",
          "name": "stdout",
          "text": [
            "Oi Alan!\n"
          ]
        }
      ]
    }
  ],
  "metadata": {
    "colab": {
      "provenance": [],
      "include_colab_link": true
    },
    "kernelspec": {
      "display_name": "Python 3",
      "name": "python3"
    }
  },
  "nbformat": 4,
  "nbformat_minor": 0
}